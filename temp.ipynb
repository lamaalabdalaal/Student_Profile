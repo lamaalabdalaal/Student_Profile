{
 "cells": [
  {
   "cell_type": "code",
   "execution_count": null,
   "source": [
    "__Student_TODO:__  \n",
    "\n",
    "< 10/7/2021 >\n",
    "\n",
    "< Lama Alabdalaal >  \n",
    "Cohort < 1/2 >\n",
    "\n",
    "\n",
    "## Student Career Goal Statement \n",
    "\n",
    "   __Student_TODO:__ \n",
    " \n",
    "  < What is your career goal? (Think 5 year's from now) >  \n",
    "  < Which financial services or products would you like to work with? >  \n",
    "  < Which technologies do you want to contrbute to? >  \n",
    "  < Which problems or oppertunities do you want to focus on? >  \n",
    "\n",
    "### Student mini-CV:\n",
    "\n",
    "  __Student_TODO:__\n",
    "\n",
    "  - Degrees Completed:    \n",
    "        < eg: BSc Computer Science '14, MSc Computer Engineering 15', PhD Finance '21 >\n",
    "  - Top 3 Technical skills:    \n",
    "        < eg: Excel, Python, Java, SQL, AWS, VBA, PowerPoint, Adobe Illustrator, etc. >\n",
    "  - Top 3 Personal strengths:   \n",
    "       < eg: great team player, personable, professional, natural leader, reliable, hard worker, amazing sense of humor, etc. >\n",
    "  - Top 3 Interests in Fintech:    \n",
    "       < eg: Algorthmic Trading, Blockchain, Smart Contracts, RegTech (regulations) , InsureTech (insurance), payments & remittence, etc >"
   ],
   "outputs": [],
   "metadata": {}
  }
 ],
 "metadata": {
  "orig_nbformat": 4,
  "language_info": {
   "name": "plaintext"
  }
 },
 "nbformat": 4,
 "nbformat_minor": 2
}